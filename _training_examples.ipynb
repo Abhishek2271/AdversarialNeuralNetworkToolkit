{
 "cells": [
  {
   "cell_type": "code",
   "execution_count": 1,
   "id": "8a1dd271-d42d-4221-8f39-3025df16d8cf",
   "metadata": {
    "tags": []
   },
   "outputs": [
    {
     "name": "stderr",
     "output_type": "stream",
     "text": [
      "/home/jovyan/.local/lib/python3.7/site-packages/tensorflow/python/framework/dtypes.py:516: FutureWarning: Passing (type, 1) or '1type' as a synonym of type is deprecated; in a future version of numpy, it will be understood as (type, (1,)) / '(1,)type'.\n",
      "  _np_qint8 = np.dtype([(\"qint8\", np.int8, 1)])\n",
      "/home/jovyan/.local/lib/python3.7/site-packages/tensorflow/python/framework/dtypes.py:517: FutureWarning: Passing (type, 1) or '1type' as a synonym of type is deprecated; in a future version of numpy, it will be understood as (type, (1,)) / '(1,)type'.\n",
      "  _np_quint8 = np.dtype([(\"quint8\", np.uint8, 1)])\n",
      "/home/jovyan/.local/lib/python3.7/site-packages/tensorflow/python/framework/dtypes.py:518: FutureWarning: Passing (type, 1) or '1type' as a synonym of type is deprecated; in a future version of numpy, it will be understood as (type, (1,)) / '(1,)type'.\n",
      "  _np_qint16 = np.dtype([(\"qint16\", np.int16, 1)])\n",
      "/home/jovyan/.local/lib/python3.7/site-packages/tensorflow/python/framework/dtypes.py:519: FutureWarning: Passing (type, 1) or '1type' as a synonym of type is deprecated; in a future version of numpy, it will be understood as (type, (1,)) / '(1,)type'.\n",
      "  _np_quint16 = np.dtype([(\"quint16\", np.uint16, 1)])\n",
      "/home/jovyan/.local/lib/python3.7/site-packages/tensorflow/python/framework/dtypes.py:520: FutureWarning: Passing (type, 1) or '1type' as a synonym of type is deprecated; in a future version of numpy, it will be understood as (type, (1,)) / '(1,)type'.\n",
      "  _np_qint32 = np.dtype([(\"qint32\", np.int32, 1)])\n",
      "/home/jovyan/.local/lib/python3.7/site-packages/tensorflow/python/framework/dtypes.py:525: FutureWarning: Passing (type, 1) or '1type' as a synonym of type is deprecated; in a future version of numpy, it will be understood as (type, (1,)) / '(1,)type'.\n",
      "  np_resource = np.dtype([(\"resource\", np.ubyte, 1)])\n",
      "/home/jovyan/.local/lib/python3.7/site-packages/tensorboard/compat/tensorflow_stub/dtypes.py:541: FutureWarning: Passing (type, 1) or '1type' as a synonym of type is deprecated; in a future version of numpy, it will be understood as (type, (1,)) / '(1,)type'.\n",
      "  _np_qint8 = np.dtype([(\"qint8\", np.int8, 1)])\n",
      "/home/jovyan/.local/lib/python3.7/site-packages/tensorboard/compat/tensorflow_stub/dtypes.py:542: FutureWarning: Passing (type, 1) or '1type' as a synonym of type is deprecated; in a future version of numpy, it will be understood as (type, (1,)) / '(1,)type'.\n",
      "  _np_quint8 = np.dtype([(\"quint8\", np.uint8, 1)])\n",
      "/home/jovyan/.local/lib/python3.7/site-packages/tensorboard/compat/tensorflow_stub/dtypes.py:543: FutureWarning: Passing (type, 1) or '1type' as a synonym of type is deprecated; in a future version of numpy, it will be understood as (type, (1,)) / '(1,)type'.\n",
      "  _np_qint16 = np.dtype([(\"qint16\", np.int16, 1)])\n",
      "/home/jovyan/.local/lib/python3.7/site-packages/tensorboard/compat/tensorflow_stub/dtypes.py:544: FutureWarning: Passing (type, 1) or '1type' as a synonym of type is deprecated; in a future version of numpy, it will be understood as (type, (1,)) / '(1,)type'.\n",
      "  _np_quint16 = np.dtype([(\"quint16\", np.uint16, 1)])\n",
      "/home/jovyan/.local/lib/python3.7/site-packages/tensorboard/compat/tensorflow_stub/dtypes.py:545: FutureWarning: Passing (type, 1) or '1type' as a synonym of type is deprecated; in a future version of numpy, it will be understood as (type, (1,)) / '(1,)type'.\n",
      "  _np_qint32 = np.dtype([(\"qint32\", np.int32, 1)])\n",
      "/home/jovyan/.local/lib/python3.7/site-packages/tensorboard/compat/tensorflow_stub/dtypes.py:550: FutureWarning: Passing (type, 1) or '1type' as a synonym of type is deprecated; in a future version of numpy, it will be understood as (type, (1,)) / '(1,)type'.\n",
      "  np_resource = np.dtype([(\"resource\", np.ubyte, 1)])\n",
      "/home/jovyan/.local/lib/python3.7/site-packages/tqdm/auto.py:21: TqdmWarning: IProgress not found. Please update jupyter and ipywidgets. See https://ipywidgets.readthedocs.io/en/stable/user_install.html\n",
      "  from .autonotebook import tqdm as notebook_tqdm\n",
      "/home/jovyan/.local/lib/python3.7/site-packages/art/estimators/certification/__init__.py:14: UserWarning: PyTorch not found. Not importing DeepZ or Interval Bound Propagation functionality\n",
      "  warnings.warn(\"PyTorch not found. Not importing DeepZ or Interval Bound Propagation functionality\")\n"
     ]
    },
    {
     "name": "stdout",
     "output_type": "stream",
     "text": [
      "Initiating training on the selected network...\n",
      "[0830 14:19:10 @logger.py:128] WRN Log directory logs/train_log/cw_mnist-mnist-FP exists! Use 'd' to delete it. \n",
      "[0830 14:19:10 @logger.py:131] WRN If you're resuming from a previous run, you can choose to keep it.\n",
      "Press any other key to exit. \n"
     ]
    },
    {
     "name": "stdin",
     "output_type": "stream",
     "text": [
      "Select Action: k (keep) / d (delete) / q (quit): d\n"
     ]
    },
    {
     "name": "stdout",
     "output_type": "stream",
     "text": [
      "[0830 14:19:14 @logger.py:92] Argv: /home/jovyan/.local/lib/python3.7/site-packages/ipykernel_launcher.py -f /home/jovyan/.local/share/jupyter/runtime/kernel-1d3e061d-d40c-4fcc-b7ae-43293e2c5851.json\n",
      "Full precision custom model for cw attack selected. Model is defined in the attack paper\n",
      "this is a custom class\n",
      "Shuffle is: True\n",
      "extracting images...\n",
      "data shape is... (60000, 28, 28)\n",
      "this is a custom class\n",
      "Shuffle is: False\n",
      "extracting images...\n",
      "data shape is... (10000, 28, 28)\n",
      "mnist\n",
      "mnist selected\n",
      "Is Resnet? False\n",
      "[0830 14:19:14 @input_source.py:221] Setting up the queue 'QueueInput/input_queue' for CPU prefetching ...\n",
      "[0830 14:19:14 @trainers.py:48] Building graph for a single training tower ...\n",
      "is training  True\n",
      "WARNING:tensorflow:Entity <bound method Conv.call of <tensorflow.python.layers.convolutional.Conv2D object at 0x7f37a82d3b50>> could not be transformed and will be executed as-is. Please report this to the AutgoGraph team. When filing the bug, set the verbosity to 10 (on Linux, `export AUTOGRAPH_VERBOSITY=10`) and attach the full output. Cause: converting <bound method Conv.call of <tensorflow.python.layers.convolutional.Conv2D object at 0x7f37a82d3b50>>: AttributeError: module 'gast' has no attribute 'Str'\n",
      "WARNING: Entity <bound method Conv.call of <tensorflow.python.layers.convolutional.Conv2D object at 0x7f37a82d3b50>> could not be transformed and will be executed as-is. Please report this to the AutgoGraph team. When filing the bug, set the verbosity to 10 (on Linux, `export AUTOGRAPH_VERBOSITY=10`) and attach the full output. Cause: converting <bound method Conv.call of <tensorflow.python.layers.convolutional.Conv2D object at 0x7f37a82d3b50>>: AttributeError: module 'gast' has no attribute 'Str'\n",
      "[0830 14:19:14 @registry.py:90] 'conv0': [?, 28, 28, 1] --> [?, 28, 28, 32]\n",
      "WARNING:tensorflow:Entity <bound method Conv.call of <tensorflow.python.layers.convolutional.Conv2D object at 0x7f37a828a810>> could not be transformed and will be executed as-is. Please report this to the AutgoGraph team. When filing the bug, set the verbosity to 10 (on Linux, `export AUTOGRAPH_VERBOSITY=10`) and attach the full output. Cause: converting <bound method Conv.call of <tensorflow.python.layers.convolutional.Conv2D object at 0x7f37a828a810>>: AttributeError: module 'gast' has no attribute 'Str'\n",
      "WARNING: Entity <bound method Conv.call of <tensorflow.python.layers.convolutional.Conv2D object at 0x7f37a828a810>> could not be transformed and will be executed as-is. Please report this to the AutgoGraph team. When filing the bug, set the verbosity to 10 (on Linux, `export AUTOGRAPH_VERBOSITY=10`) and attach the full output. Cause: converting <bound method Conv.call of <tensorflow.python.layers.convolutional.Conv2D object at 0x7f37a828a810>>: AttributeError: module 'gast' has no attribute 'Str'\n",
      "[0830 14:19:14 @registry.py:90] 'conv1': [?, 28, 28, 32] --> [?, 28, 28, 32]\n",
      "WARNING:tensorflow:Entity <bound method Pooling2D.call of <tensorflow.python.layers.pooling.MaxPooling2D object at 0x7f37a8323c10>> could not be transformed and will be executed as-is. Please report this to the AutgoGraph team. When filing the bug, set the verbosity to 10 (on Linux, `export AUTOGRAPH_VERBOSITY=10`) and attach the full output. Cause: converting <bound method Pooling2D.call of <tensorflow.python.layers.pooling.MaxPooling2D object at 0x7f37a8323c10>>: AttributeError: module 'gast' has no attribute 'Str'\n",
      "WARNING: Entity <bound method Pooling2D.call of <tensorflow.python.layers.pooling.MaxPooling2D object at 0x7f37a8323c10>> could not be transformed and will be executed as-is. Please report this to the AutgoGraph team. When filing the bug, set the verbosity to 10 (on Linux, `export AUTOGRAPH_VERBOSITY=10`) and attach the full output. Cause: converting <bound method Pooling2D.call of <tensorflow.python.layers.pooling.MaxPooling2D object at 0x7f37a8323c10>>: AttributeError: module 'gast' has no attribute 'Str'\n",
      "[0830 14:19:14 @registry.py:90] 'pool0': [?, 28, 28, 32] --> [?, 14, 14, 32]\n",
      "WARNING:tensorflow:Entity <bound method Conv.call of <tensorflow.python.layers.convolutional.Conv2D object at 0x7f37a7f6afd0>> could not be transformed and will be executed as-is. Please report this to the AutgoGraph team. When filing the bug, set the verbosity to 10 (on Linux, `export AUTOGRAPH_VERBOSITY=10`) and attach the full output. Cause: converting <bound method Conv.call of <tensorflow.python.layers.convolutional.Conv2D object at 0x7f37a7f6afd0>>: AttributeError: module 'gast' has no attribute 'Str'\n",
      "WARNING: Entity <bound method Conv.call of <tensorflow.python.layers.convolutional.Conv2D object at 0x7f37a7f6afd0>> could not be transformed and will be executed as-is. Please report this to the AutgoGraph team. When filing the bug, set the verbosity to 10 (on Linux, `export AUTOGRAPH_VERBOSITY=10`) and attach the full output. Cause: converting <bound method Conv.call of <tensorflow.python.layers.convolutional.Conv2D object at 0x7f37a7f6afd0>>: AttributeError: module 'gast' has no attribute 'Str'\n",
      "[0830 14:19:14 @registry.py:90] 'conv2': [?, 14, 14, 32] --> [?, 14, 14, 64]\n",
      "WARNING:tensorflow:Entity <bound method Conv.call of <tensorflow.python.layers.convolutional.Conv2D object at 0x7f37a7f87610>> could not be transformed and will be executed as-is. Please report this to the AutgoGraph team. When filing the bug, set the verbosity to 10 (on Linux, `export AUTOGRAPH_VERBOSITY=10`) and attach the full output. Cause: converting <bound method Conv.call of <tensorflow.python.layers.convolutional.Conv2D object at 0x7f37a7f87610>>: AttributeError: module 'gast' has no attribute 'Str'\n",
      "WARNING: Entity <bound method Conv.call of <tensorflow.python.layers.convolutional.Conv2D object at 0x7f37a7f87610>> could not be transformed and will be executed as-is. Please report this to the AutgoGraph team. When filing the bug, set the verbosity to 10 (on Linux, `export AUTOGRAPH_VERBOSITY=10`) and attach the full output. Cause: converting <bound method Conv.call of <tensorflow.python.layers.convolutional.Conv2D object at 0x7f37a7f87610>>: AttributeError: module 'gast' has no attribute 'Str'\n",
      "[0830 14:19:14 @registry.py:90] 'conv3': [?, 14, 14, 64] --> [?, 14, 14, 64]\n",
      "WARNING:tensorflow:Entity <bound method Pooling2D.call of <tensorflow.python.layers.pooling.MaxPooling2D object at 0x7f37a8323310>> could not be transformed and will be executed as-is. Please report this to the AutgoGraph team. When filing the bug, set the verbosity to 10 (on Linux, `export AUTOGRAPH_VERBOSITY=10`) and attach the full output. Cause: converting <bound method Pooling2D.call of <tensorflow.python.layers.pooling.MaxPooling2D object at 0x7f37a8323310>>: AttributeError: module 'gast' has no attribute 'Str'\n",
      "WARNING: Entity <bound method Pooling2D.call of <tensorflow.python.layers.pooling.MaxPooling2D object at 0x7f37a8323310>> could not be transformed and will be executed as-is. Please report this to the AutgoGraph team. When filing the bug, set the verbosity to 10 (on Linux, `export AUTOGRAPH_VERBOSITY=10`) and attach the full output. Cause: converting <bound method Pooling2D.call of <tensorflow.python.layers.pooling.MaxPooling2D object at 0x7f37a8323310>>: AttributeError: module 'gast' has no attribute 'Str'\n",
      "[0830 14:19:14 @registry.py:90] 'pool1': [?, 14, 14, 64] --> [?, 7, 7, 64]\n",
      "WARNING:tensorflow:Entity <bound method Dense.call of <tensorflow.python.layers.core.Dense object at 0x7f37a7f244d0>> could not be transformed and will be executed as-is. Please report this to the AutgoGraph team. When filing the bug, set the verbosity to 10 (on Linux, `export AUTOGRAPH_VERBOSITY=10`) and attach the full output. Cause: converting <bound method Dense.call of <tensorflow.python.layers.core.Dense object at 0x7f37a7f244d0>>: AttributeError: module 'gast' has no attribute 'Index'\n",
      "WARNING: Entity <bound method Dense.call of <tensorflow.python.layers.core.Dense object at 0x7f37a7f244d0>> could not be transformed and will be executed as-is. Please report this to the AutgoGraph team. When filing the bug, set the verbosity to 10 (on Linux, `export AUTOGRAPH_VERBOSITY=10`) and attach the full output. Cause: converting <bound method Dense.call of <tensorflow.python.layers.core.Dense object at 0x7f37a7f244d0>>: AttributeError: module 'gast' has no attribute 'Index'\n",
      "[0830 14:19:14 @registry.py:90] 'fc0': [?, 7, 7, 64] --> [?, 200]\n",
      "WARNING:tensorflow:Entity <bound method Dense.call of <tensorflow.python.layers.core.Dense object at 0x7f37a7f24bd0>> could not be transformed and will be executed as-is. Please report this to the AutgoGraph team. When filing the bug, set the verbosity to 10 (on Linux, `export AUTOGRAPH_VERBOSITY=10`) and attach the full output. Cause: converting <bound method Dense.call of <tensorflow.python.layers.core.Dense object at 0x7f37a7f24bd0>>: AttributeError: module 'gast' has no attribute 'Index'\n",
      "WARNING: Entity <bound method Dense.call of <tensorflow.python.layers.core.Dense object at 0x7f37a7f24bd0>> could not be transformed and will be executed as-is. Please report this to the AutgoGraph team. When filing the bug, set the verbosity to 10 (on Linux, `export AUTOGRAPH_VERBOSITY=10`) and attach the full output. Cause: converting <bound method Dense.call of <tensorflow.python.layers.core.Dense object at 0x7f37a7f24bd0>>: AttributeError: module 'gast' has no attribute 'Index'\n",
      "[0830 14:19:14 @registry.py:90] 'fc1': [?, 200] --> [?, 200]\n",
      "WARNING:tensorflow:Entity <bound method Dense.call of <tensorflow.python.layers.core.Dense object at 0x7f37a7eaecd0>> could not be transformed and will be executed as-is. Please report this to the AutgoGraph team. When filing the bug, set the verbosity to 10 (on Linux, `export AUTOGRAPH_VERBOSITY=10`) and attach the full output. Cause: converting <bound method Dense.call of <tensorflow.python.layers.core.Dense object at 0x7f37a7eaecd0>>: AttributeError: module 'gast' has no attribute 'Index'\n",
      "WARNING: Entity <bound method Dense.call of <tensorflow.python.layers.core.Dense object at 0x7f37a7eaecd0>> could not be transformed and will be executed as-is. Please report this to the AutgoGraph team. When filing the bug, set the verbosity to 10 (on Linux, `export AUTOGRAPH_VERBOSITY=10`) and attach the full output. Cause: converting <bound method Dense.call of <tensorflow.python.layers.core.Dense object at 0x7f37a7eaecd0>>: AttributeError: module 'gast' has no attribute 'Index'\n",
      "[0830 14:19:14 @registry.py:90] 'linear': [?, 200] --> [?, 10]\n",
      "[0830 14:19:14 @regularize.py:97] regularize_cost() found 2 variables to regularize.\n",
      "[0830 14:19:14 @regularize.py:21] The following tensors will be regularized: fc0/W:0, fc1/W:0\n",
      "Tensor(\"correct:0\", shape=(?,), dtype=float32)\n",
      "[0830 14:19:15 @model_utils.py:67] List of Trainable Variables: \n",
      "name      shape             #elements\n",
      "--------  --------------  -----------\n",
      "conv0/W   [3, 3, 1, 32]           288\n",
      "conv0/b   [32]                     32\n",
      "conv1/W   [3, 3, 32, 32]         9216\n",
      "conv1/b   [32]                     32\n",
      "conv2/W   [3, 3, 32, 64]        18432\n",
      "conv2/b   [64]                     64\n",
      "conv3/W   [3, 3, 64, 64]        36864\n",
      "conv3/b   [64]                     64\n",
      "fc0/W     [3136, 200]          627200\n",
      "fc0/b     [200]                   200\n",
      "fc1/W     [200, 200]            40000\n",
      "fc1/b     [200]                   200\n",
      "linear/W  [200, 10]              2000\n",
      "linear/b  [10]                     10\n",
      "Number of trainable variables: 14\n",
      "Number of parameters (elements): 734602\n",
      "Storage space needed for all trainable variables: 2.80MB\n",
      "[0830 14:19:15 @base.py:207] Setup callbacks graph ...\n",
      "[0830 14:19:15 @inference_runner.py:148] [InferenceRunner] Building tower 'InferenceTower' on device /gpu:0 ...\n",
      "is training  False\n",
      "WARNING:tensorflow:Entity <bound method Conv.call of <tensorflow.python.layers.convolutional.Conv2D object at 0x7f37a769c250>> could not be transformed and will be executed as-is. Please report this to the AutgoGraph team. When filing the bug, set the verbosity to 10 (on Linux, `export AUTOGRAPH_VERBOSITY=10`) and attach the full output. Cause: converting <bound method Conv.call of <tensorflow.python.layers.convolutional.Conv2D object at 0x7f37a769c250>>: AttributeError: module 'gast' has no attribute 'Str'\n",
      "WARNING: Entity <bound method Conv.call of <tensorflow.python.layers.convolutional.Conv2D object at 0x7f37a769c250>> could not be transformed and will be executed as-is. Please report this to the AutgoGraph team. When filing the bug, set the verbosity to 10 (on Linux, `export AUTOGRAPH_VERBOSITY=10`) and attach the full output. Cause: converting <bound method Conv.call of <tensorflow.python.layers.convolutional.Conv2D object at 0x7f37a769c250>>: AttributeError: module 'gast' has no attribute 'Str'\n",
      "WARNING:tensorflow:Entity <bound method Conv.call of <tensorflow.python.layers.convolutional.Conv2D object at 0x7f37a769c690>> could not be transformed and will be executed as-is. Please report this to the AutgoGraph team. When filing the bug, set the verbosity to 10 (on Linux, `export AUTOGRAPH_VERBOSITY=10`) and attach the full output. Cause: converting <bound method Conv.call of <tensorflow.python.layers.convolutional.Conv2D object at 0x7f37a769c690>>: AttributeError: module 'gast' has no attribute 'Str'\n",
      "WARNING: Entity <bound method Conv.call of <tensorflow.python.layers.convolutional.Conv2D object at 0x7f37a769c690>> could not be transformed and will be executed as-is. Please report this to the AutgoGraph team. When filing the bug, set the verbosity to 10 (on Linux, `export AUTOGRAPH_VERBOSITY=10`) and attach the full output. Cause: converting <bound method Conv.call of <tensorflow.python.layers.convolutional.Conv2D object at 0x7f37a769c690>>: AttributeError: module 'gast' has no attribute 'Str'\n",
      "WARNING:tensorflow:Entity <bound method Pooling2D.call of <tensorflow.python.layers.pooling.MaxPooling2D object at 0x7f37a76e53d0>> could not be transformed and will be executed as-is. Please report this to the AutgoGraph team. When filing the bug, set the verbosity to 10 (on Linux, `export AUTOGRAPH_VERBOSITY=10`) and attach the full output. Cause: converting <bound method Pooling2D.call of <tensorflow.python.layers.pooling.MaxPooling2D object at 0x7f37a76e53d0>>: AttributeError: module 'gast' has no attribute 'Str'\n",
      "WARNING: Entity <bound method Pooling2D.call of <tensorflow.python.layers.pooling.MaxPooling2D object at 0x7f37a76e53d0>> could not be transformed and will be executed as-is. Please report this to the AutgoGraph team. When filing the bug, set the verbosity to 10 (on Linux, `export AUTOGRAPH_VERBOSITY=10`) and attach the full output. Cause: converting <bound method Pooling2D.call of <tensorflow.python.layers.pooling.MaxPooling2D object at 0x7f37a76e53d0>>: AttributeError: module 'gast' has no attribute 'Str'\n",
      "WARNING:tensorflow:Entity <bound method Conv.call of <tensorflow.python.layers.convolutional.Conv2D object at 0x7f37a769c310>> could not be transformed and will be executed as-is. Please report this to the AutgoGraph team. When filing the bug, set the verbosity to 10 (on Linux, `export AUTOGRAPH_VERBOSITY=10`) and attach the full output. Cause: converting <bound method Conv.call of <tensorflow.python.layers.convolutional.Conv2D object at 0x7f37a769c310>>: AttributeError: module 'gast' has no attribute 'Str'\n",
      "WARNING: Entity <bound method Conv.call of <tensorflow.python.layers.convolutional.Conv2D object at 0x7f37a769c310>> could not be transformed and will be executed as-is. Please report this to the AutgoGraph team. When filing the bug, set the verbosity to 10 (on Linux, `export AUTOGRAPH_VERBOSITY=10`) and attach the full output. Cause: converting <bound method Conv.call of <tensorflow.python.layers.convolutional.Conv2D object at 0x7f37a769c310>>: AttributeError: module 'gast' has no attribute 'Str'\n",
      "WARNING:tensorflow:Entity <bound method Conv.call of <tensorflow.python.layers.convolutional.Conv2D object at 0x7f37a769c550>> could not be transformed and will be executed as-is. Please report this to the AutgoGraph team. When filing the bug, set the verbosity to 10 (on Linux, `export AUTOGRAPH_VERBOSITY=10`) and attach the full output. Cause: converting <bound method Conv.call of <tensorflow.python.layers.convolutional.Conv2D object at 0x7f37a769c550>>: AttributeError: module 'gast' has no attribute 'Str'\n",
      "WARNING: Entity <bound method Conv.call of <tensorflow.python.layers.convolutional.Conv2D object at 0x7f37a769c550>> could not be transformed and will be executed as-is. Please report this to the AutgoGraph team. When filing the bug, set the verbosity to 10 (on Linux, `export AUTOGRAPH_VERBOSITY=10`) and attach the full output. Cause: converting <bound method Conv.call of <tensorflow.python.layers.convolutional.Conv2D object at 0x7f37a769c550>>: AttributeError: module 'gast' has no attribute 'Str'\n",
      "WARNING:tensorflow:Entity <bound method Pooling2D.call of <tensorflow.python.layers.pooling.MaxPooling2D object at 0x7f37a76e5610>> could not be transformed and will be executed as-is. Please report this to the AutgoGraph team. When filing the bug, set the verbosity to 10 (on Linux, `export AUTOGRAPH_VERBOSITY=10`) and attach the full output. Cause: converting <bound method Pooling2D.call of <tensorflow.python.layers.pooling.MaxPooling2D object at 0x7f37a76e5610>>: AttributeError: module 'gast' has no attribute 'Str'\n",
      "WARNING: Entity <bound method Pooling2D.call of <tensorflow.python.layers.pooling.MaxPooling2D object at 0x7f37a76e5610>> could not be transformed and will be executed as-is. Please report this to the AutgoGraph team. When filing the bug, set the verbosity to 10 (on Linux, `export AUTOGRAPH_VERBOSITY=10`) and attach the full output. Cause: converting <bound method Pooling2D.call of <tensorflow.python.layers.pooling.MaxPooling2D object at 0x7f37a76e5610>>: AttributeError: module 'gast' has no attribute 'Str'\n",
      "WARNING:tensorflow:Entity <bound method Dense.call of <tensorflow.python.layers.core.Dense object at 0x7f37a73d3dd0>> could not be transformed and will be executed as-is. Please report this to the AutgoGraph team. When filing the bug, set the verbosity to 10 (on Linux, `export AUTOGRAPH_VERBOSITY=10`) and attach the full output. Cause: converting <bound method Dense.call of <tensorflow.python.layers.core.Dense object at 0x7f37a73d3dd0>>: AttributeError: module 'gast' has no attribute 'Index'\n",
      "WARNING: Entity <bound method Dense.call of <tensorflow.python.layers.core.Dense object at 0x7f37a73d3dd0>> could not be transformed and will be executed as-is. Please report this to the AutgoGraph team. When filing the bug, set the verbosity to 10 (on Linux, `export AUTOGRAPH_VERBOSITY=10`) and attach the full output. Cause: converting <bound method Dense.call of <tensorflow.python.layers.core.Dense object at 0x7f37a73d3dd0>>: AttributeError: module 'gast' has no attribute 'Index'\n",
      "WARNING:tensorflow:Entity <bound method Dense.call of <tensorflow.python.layers.core.Dense object at 0x7f37a769c510>> could not be transformed and will be executed as-is. Please report this to the AutgoGraph team. When filing the bug, set the verbosity to 10 (on Linux, `export AUTOGRAPH_VERBOSITY=10`) and attach the full output. Cause: converting <bound method Dense.call of <tensorflow.python.layers.core.Dense object at 0x7f37a769c510>>: AttributeError: module 'gast' has no attribute 'Index'\n",
      "WARNING: Entity <bound method Dense.call of <tensorflow.python.layers.core.Dense object at 0x7f37a769c510>> could not be transformed and will be executed as-is. Please report this to the AutgoGraph team. When filing the bug, set the verbosity to 10 (on Linux, `export AUTOGRAPH_VERBOSITY=10`) and attach the full output. Cause: converting <bound method Dense.call of <tensorflow.python.layers.core.Dense object at 0x7f37a769c510>>: AttributeError: module 'gast' has no attribute 'Index'\n",
      "WARNING:tensorflow:Entity <bound method Dense.call of <tensorflow.python.layers.core.Dense object at 0x7f37a769c410>> could not be transformed and will be executed as-is. Please report this to the AutgoGraph team. When filing the bug, set the verbosity to 10 (on Linux, `export AUTOGRAPH_VERBOSITY=10`) and attach the full output. Cause: converting <bound method Dense.call of <tensorflow.python.layers.core.Dense object at 0x7f37a769c410>>: AttributeError: module 'gast' has no attribute 'Index'\n",
      "WARNING: Entity <bound method Dense.call of <tensorflow.python.layers.core.Dense object at 0x7f37a769c410>> could not be transformed and will be executed as-is. Please report this to the AutgoGraph team. When filing the bug, set the verbosity to 10 (on Linux, `export AUTOGRAPH_VERBOSITY=10`) and attach the full output. Cause: converting <bound method Dense.call of <tensorflow.python.layers.core.Dense object at 0x7f37a769c410>>: AttributeError: module 'gast' has no attribute 'Index'\n",
      "Tensor(\"InferenceTower/correct:0\", shape=(?,), dtype=float32, device=/device:GPU:0)\n",
      "[0830 14:19:15 @collection.py:152] Size of these collections were changed in InferenceTower: (logits: 1->2)\n",
      "[0830 14:19:15 @summary.py:47] [MovingAverageSummary] 3 operations in collection 'MOVING_SUMMARY_OPS' will be run with session hooks.\n",
      "[0830 14:19:15 @summary.py:94] Summarizing collection 'summaries' of size 19.\n",
      "[0830 14:19:15 @base.py:228] Creating the session ...\n"
     ]
    },
    {
     "name": "stderr",
     "output_type": "stream",
     "text": [
      "2023-08-30 14:19:15.412681: I tensorflow/core/platform/cpu_feature_guard.cc:142] Your CPU supports instructions that this TensorFlow binary was not compiled to use: AVX2 AVX512F FMA\n",
      "2023-08-30 14:19:15.439789: I tensorflow/core/platform/profile_utils/cpu_utils.cc:94] CPU Frequency: 3000000000 Hz\n",
      "2023-08-30 14:19:15.442854: I tensorflow/compiler/xla/service/service.cc:168] XLA service 0x14b29e0 executing computations on platform Host. Devices:\n",
      "2023-08-30 14:19:15.442894: I tensorflow/compiler/xla/service/service.cc:175]   StreamExecutor device (0): <undefined>, <undefined>\n"
     ]
    },
    {
     "name": "stdout",
     "output_type": "stream",
     "text": [
      "[0830 14:19:15 @base.py:234] Initializing the session ...\n",
      "[0830 14:19:15 @base.py:241] Graph Finalized.\n",
      "[0830 14:19:15 @concurrency.py:37] Starting EnqueueThread: enqueue dataflow to TF queue \"QueueInput/input_queue\" ...\n",
      "shuffle is on\n",
      "[0830 14:19:15 @inference_runner.py:95] [InferenceRunner] Will eval 100 iterations\n",
      "[0830 14:19:15 @base.py:273] Start Epoch 1 ...\n"
     ]
    },
    {
     "name": "stderr",
     "output_type": "stream",
     "text": [
      "2023-08-30 14:19:15.745285: W tensorflow/compiler/jit/mark_for_compilation_pass.cc:1412] (One-time warning): Not using XLA:CPU for cluster because envvar TF_XLA_FLAGS=--tf_xla_cpu_global_jit was not set.  If you want XLA:CPU, either set that envvar, or use experimental_jit_scope to enable XLA:CPU.  To confirm that XLA is active, pass --vmodule=xla_compilation_cache=1 (as a proper command-line flag, not via TF_XLA_FLAGS) or set the envvar XLA_FLAGS=--xla_hlo_profile.\n",
      " 89%|########9 |418/469[03:28<00:25, 1.99it/s]"
     ]
    },
    {
     "name": "stdout",
     "output_type": "stream",
     "text": [
      "shuffle is on\n"
     ]
    },
    {
     "name": "stderr",
     "output_type": "stream",
     "text": [
      "100%|##########|469/469[03:53<00:00, 2.01it/s]"
     ]
    },
    {
     "name": "stdout",
     "output_type": "stream",
     "text": [
      "[0830 14:23:09 @base.py:283] Epoch 1 (global_step 469) finished, time:3 minutes 53 seconds.\n",
      "[0830 14:23:09 @saver.py:82] Model saved to logs/train_log/cw_mnist-mnist-FP/model-469.\n"
     ]
    },
    {
     "name": "stderr",
     "output_type": "stream",
     "text": [
      "\n",
      "100%|##########|100/100[00:19<00:00, 5.26it/s]"
     ]
    },
    {
     "name": "stdout",
     "output_type": "stream",
     "text": [
      "[0830 14:23:28 @saver.py:166] Model at global_step=469 with maximum val_accuracy=0.9821 saved.\n",
      "[0830 14:23:28 @saver.py:166] Model at global_step=469 with minimum val_cross_entropy_loss=0.052726 saved.\n",
      "[0830 14:23:28 @monitor.py:476] QueueInput/queue_size: 50\n",
      "[0830 14:23:28 @monitor.py:476] accuracy: 0.97227\n",
      "[0830 14:23:28 @monitor.py:476] cross_entropy_loss: 0.09014\n",
      "[0830 14:23:28 @monitor.py:476] learning_rate: 0.01\n",
      "[0830 14:23:28 @monitor.py:476] param-summary/conv0/W-rms: 0.4701\n",
      "[0830 14:23:28 @monitor.py:476] param-summary/conv1/W-rms: 0.084284\n",
      "[0830 14:23:28 @monitor.py:476] param-summary/conv2/W-rms: 0.084126\n",
      "[0830 14:23:28 @monitor.py:476] param-summary/conv3/W-rms: 0.059941\n",
      "[0830 14:23:28 @monitor.py:476] param-summary/fc0/W-rms: 0.025644\n",
      "[0830 14:23:28 @monitor.py:476] param-summary/fc1/W-rms: 0.10143\n",
      "[0830 14:23:28 @monitor.py:476] param-summary/linear/W-rms: 0.10461\n",
      "[0830 14:23:28 @monitor.py:476] train_error: 0.027732\n",
      "[0830 14:23:28 @monitor.py:476] val_accuracy: 0.9821\n",
      "[0830 14:23:28 @monitor.py:476] val_cross_entropy_loss: 0.052726\n",
      "[0830 14:23:28 @group.py:44] Callbacks took 19.136 sec in total. InferenceRunner: 19 seconds\n",
      "[0830 14:23:28 @base.py:273] Start Epoch 2 ...\n"
     ]
    },
    {
     "name": "stderr",
     "output_type": "stream",
     "text": [
      "\n",
      " 89%|########8 |417/469[03:32<00:25, 2.05it/s]"
     ]
    },
    {
     "name": "stdout",
     "output_type": "stream",
     "text": [
      "shuffle is on\n"
     ]
    },
    {
     "name": "stderr",
     "output_type": "stream",
     "text": [
      "100%|##########|469/469[04:01<00:00, 1.95it/s]"
     ]
    },
    {
     "name": "stdout",
     "output_type": "stream",
     "text": [
      "[0830 14:27:29 @base.py:283] Epoch 2 (global_step 938) finished, time:4 minutes 1 second.\n",
      "[0830 14:27:29 @saver.py:82] Model saved to logs/train_log/cw_mnist-mnist-FP/model-938.\n"
     ]
    },
    {
     "name": "stderr",
     "output_type": "stream",
     "text": [
      "\n",
      "100%|##########|100/100[00:18<00:00, 5.41it/s]\n"
     ]
    },
    {
     "name": "stdout",
     "output_type": "stream",
     "text": [
      "[0830 14:27:47 @saver.py:166] Model at global_step=938 with maximum val_accuracy=0.9891 saved.\n",
      "[0830 14:27:47 @saver.py:166] Model at global_step=938 with minimum val_cross_entropy_loss=0.032968 saved.\n",
      "[0830 14:27:47 @monitor.py:476] QueueInput/queue_size: 50\n",
      "[0830 14:27:47 @monitor.py:476] accuracy: 0.98257\n",
      "[0830 14:27:47 @monitor.py:476] cross_entropy_loss: 0.058833\n",
      "[0830 14:27:47 @monitor.py:476] learning_rate: 0.01\n",
      "[0830 14:27:47 @monitor.py:476] param-summary/conv0/W-rms: 0.47145\n",
      "[0830 14:27:47 @monitor.py:476] param-summary/conv1/W-rms: 0.084771\n",
      "[0830 14:27:47 @monitor.py:476] param-summary/conv2/W-rms: 0.084435\n",
      "[0830 14:27:47 @monitor.py:476] param-summary/conv3/W-rms: 0.060229\n",
      "[0830 14:27:47 @monitor.py:476] param-summary/fc0/W-rms: 0.02576\n",
      "[0830 14:27:47 @monitor.py:476] param-summary/fc1/W-rms: 0.10153\n",
      "[0830 14:27:47 @monitor.py:476] param-summary/linear/W-rms: 0.10636\n",
      "[0830 14:27:47 @monitor.py:476] train_error: 0.017429\n",
      "[0830 14:27:47 @monitor.py:476] val_accuracy: 0.9891\n",
      "[0830 14:27:47 @monitor.py:476] val_cross_entropy_loss: 0.032968\n",
      "[0830 14:27:47 @group.py:44] Callbacks took 18.634 sec in total. InferenceRunner: 18.5 seconds\n",
      "[0830 14:27:47 @base.py:273] Start Epoch 3 ...\n"
     ]
    },
    {
     "name": "stderr",
     "output_type": "stream",
     "text": [
      " 89%|########9 |418/469[03:35<00:26, 1.91it/s]"
     ]
    },
    {
     "name": "stdout",
     "output_type": "stream",
     "text": [
      "shuffle is on\n"
     ]
    },
    {
     "name": "stderr",
     "output_type": "stream",
     "text": [
      "100%|##########|469/469[04:01<00:00, 1.94it/s]"
     ]
    },
    {
     "name": "stdout",
     "output_type": "stream",
     "text": [
      "[0830 14:31:49 @base.py:283] Epoch 3 (global_step 1407) finished, time:4 minutes 1 second.\n",
      "[0830 14:31:49 @saver.py:82] Model saved to logs/train_log/cw_mnist-mnist-FP/model-1407.\n"
     ]
    },
    {
     "name": "stderr",
     "output_type": "stream",
     "text": [
      "\n",
      "100%|##########|100/100[00:17<00:00, 5.72it/s]"
     ]
    },
    {
     "name": "stdout",
     "output_type": "stream",
     "text": [
      "[0830 14:32:07 @saver.py:166] Model at global_step=1407 with minimum val_cross_entropy_loss=0.032741 saved.\n",
      "[0830 14:32:07 @monitor.py:476] QueueInput/queue_size: 50\n",
      "[0830 14:32:07 @monitor.py:476] accuracy: 0.98707\n",
      "[0830 14:32:07 @monitor.py:476] cross_entropy_loss: 0.041875\n",
      "[0830 14:32:07 @monitor.py:476] learning_rate: 0.01\n",
      "[0830 14:32:07 @monitor.py:476] param-summary/conv0/W-rms: 0.47247\n",
      "[0830 14:32:07 @monitor.py:476] param-summary/conv1/W-rms: 0.085147\n",
      "[0830 14:32:07 @monitor.py:476] param-summary/conv2/W-rms: 0.084675\n",
      "[0830 14:32:07 @monitor.py:476] param-summary/conv3/W-rms: 0.060457\n",
      "[0830 14:32:07 @monitor.py:476] param-summary/fc0/W-rms: 0.025844\n",
      "[0830 14:32:07 @monitor.py:476] param-summary/fc1/W-rms: 0.10161\n",
      "[0830 14:32:07 @monitor.py:476] param-summary/linear/W-rms: 0.10763\n",
      "[0830 14:32:07 @monitor.py:476] train_error: 0.012927\n",
      "[0830 14:32:07 @monitor.py:476] val_accuracy: 0.9884\n",
      "[0830 14:32:07 @monitor.py:476] val_cross_entropy_loss: 0.032741\n",
      "[0830 14:32:07 @group.py:44] Callbacks took 17.545 sec in total. InferenceRunner: 17.5 seconds\n",
      "[0830 14:32:07 @base.py:273] Start Epoch 4 ...\n"
     ]
    },
    {
     "name": "stderr",
     "output_type": "stream",
     "text": [
      "\n",
      " 89%|########9 |418/469[03:36<00:30, 1.65it/s]"
     ]
    },
    {
     "name": "stdout",
     "output_type": "stream",
     "text": [
      "shuffle is on\n"
     ]
    },
    {
     "name": "stderr",
     "output_type": "stream",
     "text": [
      "100%|##########|469/469[04:03<00:00, 1.93it/s]"
     ]
    },
    {
     "name": "stdout",
     "output_type": "stream",
     "text": [
      "[0830 14:36:10 @base.py:283] Epoch 4 (global_step 1876) finished, time:4 minutes 3 seconds.\n",
      "[0830 14:36:10 @saver.py:82] Model saved to logs/train_log/cw_mnist-mnist-FP/model-1876.\n"
     ]
    },
    {
     "name": "stderr",
     "output_type": "stream",
     "text": [
      "\n",
      "100%|##########|100/100[00:17<00:00, 5.57it/s]"
     ]
    },
    {
     "name": "stdout",
     "output_type": "stream",
     "text": [
      "[0830 14:36:28 @saver.py:166] Model at global_step=1876 with maximum val_accuracy=0.992 saved.\n",
      "[0830 14:36:28 @saver.py:166] Model at global_step=1876 with minimum val_cross_entropy_loss=0.023016 saved.\n",
      "[0830 14:36:28 @monitor.py:476] QueueInput/queue_size: 50\n",
      "[0830 14:36:28 @monitor.py:476] accuracy: 0.98901\n",
      "[0830 14:36:28 @monitor.py:476] cross_entropy_loss: 0.033167\n",
      "[0830 14:36:28 @monitor.py:476] learning_rate: 0.01\n",
      "[0830 14:36:28 @monitor.py:476] param-summary/conv0/W-rms: 0.47332\n",
      "[0830 14:36:28 @monitor.py:476] param-summary/conv1/W-rms: 0.085475\n",
      "[0830 14:36:28 @monitor.py:476] param-summary/conv2/W-rms: 0.084886\n",
      "[0830 14:36:28 @monitor.py:476] param-summary/conv3/W-rms: 0.060664\n",
      "[0830 14:36:28 @monitor.py:476] param-summary/fc0/W-rms: 0.025918\n",
      "[0830 14:36:28 @monitor.py:476] param-summary/fc1/W-rms: 0.10167\n",
      "[0830 14:36:28 @monitor.py:476] param-summary/linear/W-rms: 0.1087\n",
      "[0830 14:36:28 @monitor.py:476] train_error: 0.010992\n",
      "[0830 14:36:28 @monitor.py:476] val_accuracy: 0.992\n",
      "[0830 14:36:28 @monitor.py:476] val_cross_entropy_loss: 0.023016\n",
      "[0830 14:36:28 @group.py:44] Callbacks took 18.074 sec in total. InferenceRunner: 18 seconds\n",
      "[0830 14:36:28 @base.py:273] Start Epoch 5 ...\n"
     ]
    },
    {
     "name": "stderr",
     "output_type": "stream",
     "text": [
      "\n",
      " 89%|########9 |418/469[03:34<00:28, 1.79it/s]"
     ]
    },
    {
     "name": "stdout",
     "output_type": "stream",
     "text": [
      "shuffle is on\n"
     ]
    },
    {
     "name": "stderr",
     "output_type": "stream",
     "text": [
      "100%|##########|469/469[04:03<00:00, 1.93it/s]"
     ]
    },
    {
     "name": "stdout",
     "output_type": "stream",
     "text": [
      "[0830 14:40:31 @base.py:283] Epoch 5 (global_step 2345) finished, time:4 minutes 3 seconds.\n",
      "[0830 14:40:31 @saver.py:82] Model saved to logs/train_log/cw_mnist-mnist-FP/model-2345.\n"
     ]
    },
    {
     "name": "stderr",
     "output_type": "stream",
     "text": [
      "\n",
      "100%|##########|100/100[00:18<00:00, 5.55it/s]"
     ]
    },
    {
     "name": "stdout",
     "output_type": "stream",
     "text": [
      "[0830 14:40:49 @saver.py:166] Model at global_step=2345 with maximum val_accuracy=0.9922 saved.\n",
      "[0830 14:40:49 @saver.py:166] Model at global_step=2345 with minimum val_cross_entropy_loss=0.022863 saved.\n",
      "[0830 14:40:49 @monitor.py:476] QueueInput/queue_size: 50\n",
      "[0830 14:40:49 @monitor.py:476] accuracy: 0.99209\n",
      "[0830 14:40:49 @monitor.py:476] cross_entropy_loss: 0.02828\n",
      "[0830 14:40:49 @monitor.py:476] learning_rate: 0.01\n",
      "[0830 14:40:49 @monitor.py:476] param-summary/conv0/W-rms: 0.47427\n",
      "[0830 14:40:49 @monitor.py:476] param-summary/conv1/W-rms: 0.085786\n",
      "[0830 14:40:49 @monitor.py:476] param-summary/conv2/W-rms: 0.085089\n",
      "[0830 14:40:49 @monitor.py:476] param-summary/conv3/W-rms: 0.060864\n",
      "[0830 14:40:49 @monitor.py:476] param-summary/fc0/W-rms: 0.025983\n",
      "[0830 14:40:49 @monitor.py:476] param-summary/fc1/W-rms: 0.10172\n",
      "[0830 14:40:49 @monitor.py:476] param-summary/linear/W-rms: 0.10971\n",
      "[0830 14:40:49 @monitor.py:476] train_error: 0.007912\n",
      "[0830 14:40:49 @monitor.py:476] val_accuracy: 0.9922\n",
      "[0830 14:40:49 @monitor.py:476] val_cross_entropy_loss: 0.022863\n",
      "[0830 14:40:49 @group.py:44] Callbacks took 18.187 sec in total. InferenceRunner: 18 seconds\n",
      "[0830 14:40:49 @base.py:287] Training has finished!\n"
     ]
    },
    {
     "name": "stderr",
     "output_type": "stream",
     "text": [
      "\n",
      "2023-08-30 14:40:49.565527: W tensorflow/core/kernels/queue_base.cc:277] _0_QueueInput/input_queue: Skipping cancelled enqueue attempt with queue not closed\n"
     ]
    },
    {
     "name": "stdout",
     "output_type": "stream",
     "text": [
      "[0830 14:40:49 @input_source.py:177] [EnqueueThread] Thread EnqueueThread: enqueue dataflow to TF queue \"QueueInput/input_queue\" Exited.\n"
     ]
    }
   ],
   "source": [
    "from ANNT import initiate_task\n",
    "\n",
    "task_type = \"train\" #training, attack, inference\n",
    "model_name = \"cw_mnist\" #name of the model\n",
    "dataset = \"mnist\" #name of the dataset\n",
    "\n",
    "initiate_task.begin_train(model_name, dataset, 5)"
   ]
  },
  {
   "cell_type": "code",
   "execution_count": null,
   "id": "d446a77a-2cae-4e24-9e46-0eccc7198e80",
   "metadata": {},
   "outputs": [],
   "source": []
  }
 ],
 "metadata": {
  "kernelspec": {
   "display_name": "Python 3.7",
   "language": "python",
   "name": "python3.7"
  },
  "language_info": {
   "codemirror_mode": {
    "name": "ipython",
    "version": 3
   },
   "file_extension": ".py",
   "mimetype": "text/x-python",
   "name": "python",
   "nbconvert_exporter": "python",
   "pygments_lexer": "ipython3",
   "version": "3.7.17"
  }
 },
 "nbformat": 4,
 "nbformat_minor": 5
}
